{
 "cells": [
  {
   "cell_type": "code",
   "execution_count": 1,
   "metadata": {},
   "outputs": [
    {
     "name": "stderr",
     "output_type": "stream",
     "text": [
      "/home/hanihussein/PythonProjects/NewObjectTrack/serial_com.py:23: UserWarning: No Arduino port found\n",
      "  warnings.warn(\"No Arduino port found\")\n"
     ]
    },
    {
     "name": "stdout",
     "output_type": "stream",
     "text": [
      "Run anyway?[y/n]y\n"
     ]
    }
   ],
   "source": [
    "#!/usr/bin/env python3\n",
    "# -*- coding: utf-8 -*-\n",
    "\"\"\"\n",
    "Created on Wed Nov 29 21:51:01 2017\n",
    "\n",
    "@author: hanihussein\n",
    "\"\"\"\n",
    "\n",
    "import cv2   #import openCV library for the computer vision\n",
    "import numpy as np   #import numpy library for arrays usages\n",
    "import serial_com  #import serial_com python file\n",
    "\n"
   ]
  },
  {
   "cell_type": "code",
   "execution_count": 2,
   "metadata": {
    "collapsed": true
   },
   "outputs": [],
   "source": [
    "\n",
    "lowerBound = np.array([33,80,40])   #lower bound of the object's color in HSV  -> look at [1]\n",
    "upperBound = np.array([64,255,255])   #upper bound of the object's color in HSV  -> look at [1]\n",
    "kernelOpen = np.ones((10, 10))    #Max. array of pixels that cosider as noise pixels  -> look at [2]\n",
    "kernelClose = np.ones((20, 20)) #array of pixels which will fill in -> look at [3]\n",
    "\n",
    "cam = cv2.VideoCapture(1)   #capture video from camera index 1\n"
   ]
  },
  {
   "cell_type": "code",
   "execution_count": null,
   "metadata": {
    "collapsed": true
   },
   "outputs": [],
   "source": [
    "#start the process loop\n",
    "while True:\n",
    "    ret, img = cam.read()   #read the captured video\n",
    "    img = cv2.resize(img,(340,220)) #resize img window\n",
    "    height, width = img.shape[:2] #get width and height of the frame\n",
    "    #draw the center of the frame\n",
    "    cv2.rectangle(img, (int(width/2),int(height/2)), (int(width/2),int(height/2)),(255,0,0), 5)\n",
    "\n",
    "\n",
    "    #Convert BGR color to HSV\n",
    "    imgHSV = cv2.cvtColor(img, cv2.COLOR_BGR2HSV)\n",
    "    #Create Mask, Showing only rquired color using the HSV range of the color\n",
    "    mask = cv2.inRange(imgHSV,lowerBound, upperBound)   # -> [1]\n",
    "\n",
    "    \n",
    "    #Clear noise pixels\n",
    "    maskOpen = cv2.morphologyEx(mask, cv2.MORPH_OPEN, kernelOpen) # -> [2]\n",
    "    \n",
    "        \n",
    "    #Fill in the object tracked\n",
    "    maskClose = cv2.morphologyEx(maskOpen, cv2.MORPH_CLOSE, kernelClose) # -> [3]\n",
    "    \n",
    "    \n",
    "    finalMask = maskClose #define the final mask to work on\n",
    "    \n",
    "    #Get the contour of the object\n",
    "    _, conts, _ = cv2.findContours(finalMask.copy(), cv2.RETR_EXTERNAL, cv2.CHAIN_APPROX_SIMPLE)\n",
    "   \n",
    "    \n"
   ]
  },
  {
   "cell_type": "code",
   "execution_count": null,
   "metadata": {
    "collapsed": true
   },
   "outputs": [],
   "source": [
    "#Draw Rectangle on the object\n",
    "    for i in range(len(conts)):\n",
    "        x, y, w, h = cv2.boundingRect(conts[i]) #get dimensions of the bounding rectangle arround the object\n",
    "        cv2.rectangle(img, (x,y), (x+w, y+h), (0,0,255), 2) #draw the rectangle with green color\n",
    "        centerX = (x+(w/2)) #center of regtangle in X-axis\n",
    "        centerY = (y+(h/2)) #center of regtangle in Y-axis\n",
    "        #draw the center of the rectangle on the frame\n",
    "        cv2.rectangle(img, (int(centerX),int(centerY)), (int(centerX),int(centerY)),(0,0,255), 2) \n",
    "       \n",
    "        originCenterX = int(width / 2) - int(centerX)    #center of object in X-axis with respect to origin\n",
    "        originCenterY = int(height / 2) - int(centerY)   #center of object in Y-axis with respect to origin\n",
    "        coordintates2origin = \"(\" + str(originCenterX) + \",\" + str(originCenterY)+\")\" #convert the coordintates to string\n",
    "        #showing coordintates2origin on the camera frame\n",
    "        cv2.putText(img, coordintates2origin, (x+w+5,y+h+5), cv2.FONT_HERSHEY_SIMPLEX, 0.2, (0, 0, 255), 1)\n",
    "        \n",
    "        \n",
    "        #Check if there is avaliable arduino port\n",
    "        if (serial_com.availableArduino):\n",
    "            #send center Coordinates to the Arduino\n",
    "            serial_com.send_data(coordintates2origin)  \n",
    "\n",
    "    \n",
    "    \n",
    "  "
   ]
  },
  {
   "cell_type": "code",
   "execution_count": null,
   "metadata": {
    "collapsed": true
   },
   "outputs": [],
   "source": [
    "  #Showing Camera frame\n",
    "    cv2.imshow(\"Camera\", img) \n",
    "    #Showing Camera frame in HSV color\n",
    "    cv2.imshow(\"HSV\", imgHSV)\n",
    "    #Showing mask frame\n",
    "    cv2.imshow(\"Mask\",mask)\n",
    "    #Showing maskOpen frame\n",
    "    cv2.imshow(\"Mask Open\", maskOpen)\n",
    "    #Showing maskClose frame\n",
    "    cv2.imshow(\"Mask Close\", maskClose)\n",
    "   "
   ]
  },
  {
   "cell_type": "code",
   "execution_count": null,
   "metadata": {},
   "outputs": [],
   "source": [
    "\n",
    "    #wait for key pressed\n",
    "    key = cv2.waitKey(1) & 0xFF\n",
    "    # if the 'q' key is pressed, stop the loop (Exit)\n",
    "    if key == ord(\"q\"):\n",
    "        break\n",
    "    "
   ]
  },
  {
   "cell_type": "markdown",
   "metadata": {},
   "source": [
    "$$c = \\sqrt{a^2 + b^2}$$\n"
   ]
  },
  {
   "cell_type": "code",
   "execution_count": null,
   "metadata": {
    "collapsed": true
   },
   "outputs": [],
   "source": []
  },
  {
   "cell_type": "code",
   "execution_count": null,
   "metadata": {
    "collapsed": true
   },
   "outputs": [],
   "source": []
  }
 ],
 "metadata": {
  "kernelspec": {
   "display_name": "Python 3",
   "language": "python",
   "name": "python3"
  },
  "language_info": {
   "codemirror_mode": {
    "name": "ipython",
    "version": 3
   },
   "file_extension": ".py",
   "mimetype": "text/x-python",
   "name": "python",
   "nbconvert_exporter": "python",
   "pygments_lexer": "ipython3",
   "version": "3.6.2"
  }
 },
 "nbformat": 4,
 "nbformat_minor": 2
}
